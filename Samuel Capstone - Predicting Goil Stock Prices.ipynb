{
 "cells": [
  {
   "cell_type": "code",
   "execution_count": null,
   "id": "d684e656",
   "metadata": {},
   "outputs": [],
   "source": []
  },
  {
   "cell_type": "markdown",
   "id": "0e63ac99",
   "metadata": {},
   "source": [
    "# DigiCAP UCC Capstone Project. \n",
    "\n",
    "## The Goal of this Project is to use Monte Carlo Simulation to Predict the Closing Stock Price of Ghana Oil Company Ltd (GOIL). \n",
    "\n",
    "## Historical Data From November 16 2007 to August 23 2022 was downloded for the analysis.\n",
    "## Goil was enlisted on the Ghana Stock Exchange on 16th November, 2007.\n",
    "## Source of Data is from Ghana Stock Exchange Database"
   ]
  },
  {
   "cell_type": "markdown",
   "id": "087c0c0b",
   "metadata": {},
   "source": [
    "## The Ghana Stock Exchage opens for trading five days a week. Mondays to Fridays excluding holidays. Five hours a day, 10am to 3pm\n",
    "## Approximately the Exchange trades for 250 days a year"
   ]
  },
  {
   "cell_type": "markdown",
   "id": "0c1a6fbc",
   "metadata": {},
   "source": [
    "### Importing the Needed Libraries and Loading the Dataset into Jupyter"
   ]
  },
  {
   "cell_type": "code",
   "execution_count": 2,
   "id": "d2fcd6cb",
   "metadata": {},
   "outputs": [],
   "source": [
    "#importing all needed libraries\n",
    "import pandas as pd\n",
    "import numpy as np\n",
    "import matplotlib.pyplot as plt\n",
    "import seaborn as sn\n",
    "import statsmodels.api as sm\n",
    "from sklearn.model_selection import train_test_split\n",
    "from sklearn.metrics import r2_score\n",
    "from sklearn import preprocessing\n",
    "\n",
    "from sklearn.preprocessing import MinMaxScaler\n",
    "from scipy.stats import norm\n",
    "%matplotlib inline\n",
    "\n",
    "from scipy import stats\n",
    "from sklearn.linear_model import LogisticRegression\n",
    "from sklearn.metrics import accuracy_score\n",
    "from sklearn import tree\n",
    "from sklearn.metrics import confusion_matrix, accuracy_score\n",
    "import os\n",
    "\n",
    "import warnings\n",
    "warnings.filterwarnings('ignore')\n",
    "\n"
   ]
  },
  {
   "cell_type": "markdown",
   "id": "23f887da",
   "metadata": {},
   "source": [
    "### Importing, Examining and Cleaning the data"
   ]
  },
  {
   "cell_type": "code",
   "execution_count": 3,
   "id": "7a15f5f1",
   "metadata": {},
   "outputs": [],
   "source": [
    "#file directory\n",
    "os.chdir (r\"C:\\Users\\LENOVO\\Desktop\\Digicap\\data bank\")\n",
    "\n",
    "#Loading the data set into jupyter\n",
    "goil = pd.read_csv('goil_data_for_capstone.csv')"
   ]
  },
  {
   "cell_type": "code",
   "execution_count": 4,
   "id": "0e0875cc",
   "metadata": {},
   "outputs": [
    {
     "data": {
      "text/html": [
       "<div>\n",
       "<style scoped>\n",
       "    .dataframe tbody tr th:only-of-type {\n",
       "        vertical-align: middle;\n",
       "    }\n",
       "\n",
       "    .dataframe tbody tr th {\n",
       "        vertical-align: top;\n",
       "    }\n",
       "\n",
       "    .dataframe thead th {\n",
       "        text-align: right;\n",
       "    }\n",
       "</style>\n",
       "<table border=\"1\" class=\"dataframe\">\n",
       "  <thead>\n",
       "    <tr style=\"text-align: right;\">\n",
       "      <th></th>\n",
       "      <th>Date</th>\n",
       "      <th>Share Code</th>\n",
       "      <th>Year High (GHS)</th>\n",
       "      <th>Year Low (GHS)</th>\n",
       "      <th>Previous Closing Price VWAP (GHS)</th>\n",
       "      <th>Opening Price (GHS)</th>\n",
       "      <th>Closing Price VWAP (GHS)</th>\n",
       "      <th>Price Change (GHS)</th>\n",
       "      <th>Closing Bid Price (GHS)</th>\n",
       "      <th>Closing Offer Price (GHS)</th>\n",
       "      <th>Total Shares Traded</th>\n",
       "      <th>Total Value Traded</th>\n",
       "      <th>Last Transaction Price (GHS)</th>\n",
       "    </tr>\n",
       "  </thead>\n",
       "  <tbody>\n",
       "    <tr>\n",
       "      <th>0</th>\n",
       "      <td>2007-11-16</td>\n",
       "      <td>GOIL</td>\n",
       "      <td>0.2153</td>\n",
       "      <td>0.215</td>\n",
       "      <td>0.2000</td>\n",
       "      <td>0.2150</td>\n",
       "      <td>0.2153</td>\n",
       "      <td>0.0153</td>\n",
       "      <td>NaN</td>\n",
       "      <td>NaN</td>\n",
       "      <td>62800</td>\n",
       "      <td>NaN</td>\n",
       "      <td>0</td>\n",
       "    </tr>\n",
       "    <tr>\n",
       "      <th>1</th>\n",
       "      <td>2007-11-19</td>\n",
       "      <td>GOIL</td>\n",
       "      <td>0.2153</td>\n",
       "      <td>0.215</td>\n",
       "      <td>0.2153</td>\n",
       "      <td>0.2153</td>\n",
       "      <td>0.2153</td>\n",
       "      <td>0.0000</td>\n",
       "      <td>0.2154</td>\n",
       "      <td>0.0</td>\n",
       "      <td>0</td>\n",
       "      <td>NaN</td>\n",
       "      <td>0</td>\n",
       "    </tr>\n",
       "    <tr>\n",
       "      <th>2</th>\n",
       "      <td>2007-11-20</td>\n",
       "      <td>GOIL</td>\n",
       "      <td>0.2153</td>\n",
       "      <td>0.215</td>\n",
       "      <td>0.2153</td>\n",
       "      <td>0.2153</td>\n",
       "      <td>0.2153</td>\n",
       "      <td>0.0000</td>\n",
       "      <td>0.2155</td>\n",
       "      <td>0.0</td>\n",
       "      <td>0</td>\n",
       "      <td>NaN</td>\n",
       "      <td>0</td>\n",
       "    </tr>\n",
       "    <tr>\n",
       "      <th>3</th>\n",
       "      <td>2007-11-21</td>\n",
       "      <td>GOIL</td>\n",
       "      <td>0.2260</td>\n",
       "      <td>0.215</td>\n",
       "      <td>0.2153</td>\n",
       "      <td>0.2153</td>\n",
       "      <td>0.2260</td>\n",
       "      <td>0.0107</td>\n",
       "      <td>0.2260</td>\n",
       "      <td>0.0</td>\n",
       "      <td>1090400</td>\n",
       "      <td>NaN</td>\n",
       "      <td>0</td>\n",
       "    </tr>\n",
       "    <tr>\n",
       "      <th>4</th>\n",
       "      <td>2007-11-22</td>\n",
       "      <td>GOIL</td>\n",
       "      <td>0.2260</td>\n",
       "      <td>0.215</td>\n",
       "      <td>0.2260</td>\n",
       "      <td>0.2260</td>\n",
       "      <td>0.2260</td>\n",
       "      <td>0.0000</td>\n",
       "      <td>0.2260</td>\n",
       "      <td>0.0</td>\n",
       "      <td>0</td>\n",
       "      <td>NaN</td>\n",
       "      <td>0</td>\n",
       "    </tr>\n",
       "  </tbody>\n",
       "</table>\n",
       "</div>"
      ],
      "text/plain": [
       "         Date Share Code  Year High (GHS)  Year Low (GHS)  \\\n",
       "0  2007-11-16       GOIL           0.2153           0.215   \n",
       "1  2007-11-19       GOIL           0.2153           0.215   \n",
       "2  2007-11-20       GOIL           0.2153           0.215   \n",
       "3  2007-11-21       GOIL           0.2260           0.215   \n",
       "4  2007-11-22       GOIL           0.2260           0.215   \n",
       "\n",
       "   Previous Closing Price VWAP (GHS)  Opening Price (GHS)  \\\n",
       "0                             0.2000               0.2150   \n",
       "1                             0.2153               0.2153   \n",
       "2                             0.2153               0.2153   \n",
       "3                             0.2153               0.2153   \n",
       "4                             0.2260               0.2260   \n",
       "\n",
       "   Closing Price VWAP (GHS)  Price Change (GHS)  Closing Bid Price (GHS)  \\\n",
       "0                    0.2153              0.0153                      NaN   \n",
       "1                    0.2153              0.0000                   0.2154   \n",
       "2                    0.2153              0.0000                   0.2155   \n",
       "3                    0.2260              0.0107                   0.2260   \n",
       "4                    0.2260              0.0000                   0.2260   \n",
       "\n",
       "   Closing Offer Price (GHS) Total Shares Traded Total Value Traded  \\\n",
       "0                        NaN               62800                NaN   \n",
       "1                        0.0                   0                NaN   \n",
       "2                        0.0                   0                NaN   \n",
       "3                        0.0             1090400                NaN   \n",
       "4                        0.0                   0                NaN   \n",
       "\n",
       "  Last Transaction Price (GHS)  \n",
       "0                            0  \n",
       "1                            0  \n",
       "2                            0  \n",
       "3                            0  \n",
       "4                            0  "
      ]
     },
     "execution_count": 4,
     "metadata": {},
     "output_type": "execute_result"
    }
   ],
   "source": [
    "#examining the first 5 rows of the dataset\n",
    "goil.head()"
   ]
  },
  {
   "cell_type": "code",
   "execution_count": 5,
   "id": "382d3abe",
   "metadata": {},
   "outputs": [
    {
     "data": {
      "text/html": [
       "<div>\n",
       "<style scoped>\n",
       "    .dataframe tbody tr th:only-of-type {\n",
       "        vertical-align: middle;\n",
       "    }\n",
       "\n",
       "    .dataframe tbody tr th {\n",
       "        vertical-align: top;\n",
       "    }\n",
       "\n",
       "    .dataframe thead th {\n",
       "        text-align: right;\n",
       "    }\n",
       "</style>\n",
       "<table border=\"1\" class=\"dataframe\">\n",
       "  <thead>\n",
       "    <tr style=\"text-align: right;\">\n",
       "      <th></th>\n",
       "      <th>Date</th>\n",
       "      <th>Share Code</th>\n",
       "      <th>Year High (GHS)</th>\n",
       "      <th>Year Low (GHS)</th>\n",
       "      <th>Previous Closing Price VWAP (GHS)</th>\n",
       "      <th>Opening Price (GHS)</th>\n",
       "      <th>Closing Price VWAP (GHS)</th>\n",
       "      <th>Price Change (GHS)</th>\n",
       "      <th>Closing Bid Price (GHS)</th>\n",
       "      <th>Closing Offer Price (GHS)</th>\n",
       "      <th>Total Shares Traded</th>\n",
       "      <th>Total Value Traded</th>\n",
       "      <th>Last Transaction Price (GHS)</th>\n",
       "    </tr>\n",
       "  </thead>\n",
       "  <tbody>\n",
       "    <tr>\n",
       "      <th>3624</th>\n",
       "      <td>2022-08-17</td>\n",
       "      <td>GOIL</td>\n",
       "      <td>1.82</td>\n",
       "      <td>1.79</td>\n",
       "      <td>1.79</td>\n",
       "      <td>1.79</td>\n",
       "      <td>1.79</td>\n",
       "      <td>0.0</td>\n",
       "      <td>NaN</td>\n",
       "      <td>1.79</td>\n",
       "      <td>0</td>\n",
       "      <td>0</td>\n",
       "      <td>1.79</td>\n",
       "    </tr>\n",
       "    <tr>\n",
       "      <th>3625</th>\n",
       "      <td>2022-08-18</td>\n",
       "      <td>GOIL</td>\n",
       "      <td>1.82</td>\n",
       "      <td>1.79</td>\n",
       "      <td>1.79</td>\n",
       "      <td>1.79</td>\n",
       "      <td>1.79</td>\n",
       "      <td>0.0</td>\n",
       "      <td>NaN</td>\n",
       "      <td>1.79</td>\n",
       "      <td>0</td>\n",
       "      <td>0</td>\n",
       "      <td>1.79</td>\n",
       "    </tr>\n",
       "    <tr>\n",
       "      <th>3626</th>\n",
       "      <td>2022-08-19</td>\n",
       "      <td>GOIL</td>\n",
       "      <td>1.82</td>\n",
       "      <td>1.79</td>\n",
       "      <td>1.79</td>\n",
       "      <td>1.79</td>\n",
       "      <td>1.79</td>\n",
       "      <td>0.0</td>\n",
       "      <td>NaN</td>\n",
       "      <td>1.79</td>\n",
       "      <td>20</td>\n",
       "      <td>35.8</td>\n",
       "      <td>1.79</td>\n",
       "    </tr>\n",
       "    <tr>\n",
       "      <th>3627</th>\n",
       "      <td>2022-08-22</td>\n",
       "      <td>GOIL</td>\n",
       "      <td>1.82</td>\n",
       "      <td>1.79</td>\n",
       "      <td>1.79</td>\n",
       "      <td>1.79</td>\n",
       "      <td>1.79</td>\n",
       "      <td>0.0</td>\n",
       "      <td>NaN</td>\n",
       "      <td>1.79</td>\n",
       "      <td>0</td>\n",
       "      <td>0</td>\n",
       "      <td>1.79</td>\n",
       "    </tr>\n",
       "    <tr>\n",
       "      <th>3628</th>\n",
       "      <td>2022-08-23</td>\n",
       "      <td>GOIL</td>\n",
       "      <td>1.82</td>\n",
       "      <td>1.79</td>\n",
       "      <td>1.79</td>\n",
       "      <td>1.79</td>\n",
       "      <td>1.79</td>\n",
       "      <td>0.0</td>\n",
       "      <td>NaN</td>\n",
       "      <td>1.79</td>\n",
       "      <td>0</td>\n",
       "      <td>0</td>\n",
       "      <td>1.79</td>\n",
       "    </tr>\n",
       "  </tbody>\n",
       "</table>\n",
       "</div>"
      ],
      "text/plain": [
       "            Date Share Code  Year High (GHS)  Year Low (GHS)  \\\n",
       "3624  2022-08-17       GOIL             1.82            1.79   \n",
       "3625  2022-08-18       GOIL             1.82            1.79   \n",
       "3626  2022-08-19       GOIL             1.82            1.79   \n",
       "3627  2022-08-22       GOIL             1.82            1.79   \n",
       "3628  2022-08-23       GOIL             1.82            1.79   \n",
       "\n",
       "      Previous Closing Price VWAP (GHS)  Opening Price (GHS)  \\\n",
       "3624                               1.79                 1.79   \n",
       "3625                               1.79                 1.79   \n",
       "3626                               1.79                 1.79   \n",
       "3627                               1.79                 1.79   \n",
       "3628                               1.79                 1.79   \n",
       "\n",
       "      Closing Price VWAP (GHS)  Price Change (GHS)  Closing Bid Price (GHS)  \\\n",
       "3624                      1.79                 0.0                      NaN   \n",
       "3625                      1.79                 0.0                      NaN   \n",
       "3626                      1.79                 0.0                      NaN   \n",
       "3627                      1.79                 0.0                      NaN   \n",
       "3628                      1.79                 0.0                      NaN   \n",
       "\n",
       "      Closing Offer Price (GHS) Total Shares Traded Total Value Traded  \\\n",
       "3624                       1.79                   0                  0   \n",
       "3625                       1.79                   0                  0   \n",
       "3626                       1.79                  20               35.8   \n",
       "3627                       1.79                   0                  0   \n",
       "3628                       1.79                   0                  0   \n",
       "\n",
       "     Last Transaction Price (GHS)  \n",
       "3624                         1.79  \n",
       "3625                         1.79  \n",
       "3626                         1.79  \n",
       "3627                         1.79  \n",
       "3628                         1.79  "
      ]
     },
     "execution_count": 5,
     "metadata": {},
     "output_type": "execute_result"
    }
   ],
   "source": [
    "#examining the last 5 rows of the dataset\n",
    "goil.tail()"
   ]
  },
  {
   "cell_type": "markdown",
   "id": "4f6b19e6",
   "metadata": {},
   "source": [
    "### Performing basic statistical descriptives on the data show that:\n",
    "#### 1. the mean closing stock for goil is GHS 1.25 with standard deviation of GHS 0.96\n",
    "#### 2. The minimum price is 0.14 and a maximum price of 5.01.\n",
    "#### 3. This leads to a range of GHs 4.87\n",
    "#### 4. The price dropped by as low as 0.37 at some point and rose by 1.59 at some other time"
   ]
  },
  {
   "cell_type": "code",
   "execution_count": 6,
   "id": "50d187cc",
   "metadata": {},
   "outputs": [
    {
     "data": {
      "text/html": [
       "<div>\n",
       "<style scoped>\n",
       "    .dataframe tbody tr th:only-of-type {\n",
       "        vertical-align: middle;\n",
       "    }\n",
       "\n",
       "    .dataframe tbody tr th {\n",
       "        vertical-align: top;\n",
       "    }\n",
       "\n",
       "    .dataframe thead th {\n",
       "        text-align: right;\n",
       "    }\n",
       "</style>\n",
       "<table border=\"1\" class=\"dataframe\">\n",
       "  <thead>\n",
       "    <tr style=\"text-align: right;\">\n",
       "      <th></th>\n",
       "      <th>Year High (GHS)</th>\n",
       "      <th>Year Low (GHS)</th>\n",
       "      <th>Previous Closing Price VWAP (GHS)</th>\n",
       "      <th>Opening Price (GHS)</th>\n",
       "      <th>Closing Price VWAP (GHS)</th>\n",
       "      <th>Price Change (GHS)</th>\n",
       "      <th>Closing Bid Price (GHS)</th>\n",
       "      <th>Closing Offer Price (GHS)</th>\n",
       "    </tr>\n",
       "  </thead>\n",
       "  <tbody>\n",
       "    <tr>\n",
       "      <th>count</th>\n",
       "      <td>3629.000000</td>\n",
       "      <td>3629.000000</td>\n",
       "      <td>3629.000000</td>\n",
       "      <td>3629.000000</td>\n",
       "      <td>3629.000000</td>\n",
       "      <td>3629.000000</td>\n",
       "      <td>2310.000000</td>\n",
       "      <td>2584.000000</td>\n",
       "    </tr>\n",
       "    <tr>\n",
       "      <th>mean</th>\n",
       "      <td>1.448337</td>\n",
       "      <td>1.060518</td>\n",
       "      <td>1.247194</td>\n",
       "      <td>1.246633</td>\n",
       "      <td>1.247439</td>\n",
       "      <td>0.001631</td>\n",
       "      <td>1.025457</td>\n",
       "      <td>3.885404</td>\n",
       "    </tr>\n",
       "    <tr>\n",
       "      <th>std</th>\n",
       "      <td>1.205101</td>\n",
       "      <td>0.834795</td>\n",
       "      <td>0.964101</td>\n",
       "      <td>0.963641</td>\n",
       "      <td>0.964143</td>\n",
       "      <td>0.045487</td>\n",
       "      <td>0.906220</td>\n",
       "      <td>135.718681</td>\n",
       "    </tr>\n",
       "    <tr>\n",
       "      <th>min</th>\n",
       "      <td>0.170000</td>\n",
       "      <td>0.020000</td>\n",
       "      <td>0.140000</td>\n",
       "      <td>0.140000</td>\n",
       "      <td>0.140000</td>\n",
       "      <td>-0.370000</td>\n",
       "      <td>0.000000</td>\n",
       "      <td>0.000000</td>\n",
       "    </tr>\n",
       "    <tr>\n",
       "      <th>25%</th>\n",
       "      <td>0.340000</td>\n",
       "      <td>0.300000</td>\n",
       "      <td>0.330000</td>\n",
       "      <td>0.330000</td>\n",
       "      <td>0.330000</td>\n",
       "      <td>0.000000</td>\n",
       "      <td>0.300000</td>\n",
       "      <td>0.320000</td>\n",
       "    </tr>\n",
       "    <tr>\n",
       "      <th>50%</th>\n",
       "      <td>1.440000</td>\n",
       "      <td>1.050000</td>\n",
       "      <td>1.120000</td>\n",
       "      <td>1.120000</td>\n",
       "      <td>1.120000</td>\n",
       "      <td>0.000000</td>\n",
       "      <td>0.900000</td>\n",
       "      <td>1.000000</td>\n",
       "    </tr>\n",
       "    <tr>\n",
       "      <th>75%</th>\n",
       "      <td>1.780000</td>\n",
       "      <td>1.500000</td>\n",
       "      <td>1.700000</td>\n",
       "      <td>1.700000</td>\n",
       "      <td>1.700000</td>\n",
       "      <td>0.000000</td>\n",
       "      <td>1.500000</td>\n",
       "      <td>1.700000</td>\n",
       "    </tr>\n",
       "    <tr>\n",
       "      <th>max</th>\n",
       "      <td>5.050000</td>\n",
       "      <td>4.350000</td>\n",
       "      <td>5.010000</td>\n",
       "      <td>5.010000</td>\n",
       "      <td>5.010000</td>\n",
       "      <td>1.590000</td>\n",
       "      <td>5.000000</td>\n",
       "      <td>6900.000000</td>\n",
       "    </tr>\n",
       "  </tbody>\n",
       "</table>\n",
       "</div>"
      ],
      "text/plain": [
       "       Year High (GHS)  Year Low (GHS)  Previous Closing Price VWAP (GHS)  \\\n",
       "count      3629.000000     3629.000000                        3629.000000   \n",
       "mean          1.448337        1.060518                           1.247194   \n",
       "std           1.205101        0.834795                           0.964101   \n",
       "min           0.170000        0.020000                           0.140000   \n",
       "25%           0.340000        0.300000                           0.330000   \n",
       "50%           1.440000        1.050000                           1.120000   \n",
       "75%           1.780000        1.500000                           1.700000   \n",
       "max           5.050000        4.350000                           5.010000   \n",
       "\n",
       "       Opening Price (GHS)  Closing Price VWAP (GHS)  Price Change (GHS)  \\\n",
       "count          3629.000000               3629.000000         3629.000000   \n",
       "mean              1.246633                  1.247439            0.001631   \n",
       "std               0.963641                  0.964143            0.045487   \n",
       "min               0.140000                  0.140000           -0.370000   \n",
       "25%               0.330000                  0.330000            0.000000   \n",
       "50%               1.120000                  1.120000            0.000000   \n",
       "75%               1.700000                  1.700000            0.000000   \n",
       "max               5.010000                  5.010000            1.590000   \n",
       "\n",
       "       Closing Bid Price (GHS)  Closing Offer Price (GHS)  \n",
       "count              2310.000000                2584.000000  \n",
       "mean                  1.025457                   3.885404  \n",
       "std                   0.906220                 135.718681  \n",
       "min                   0.000000                   0.000000  \n",
       "25%                   0.300000                   0.320000  \n",
       "50%                   0.900000                   1.000000  \n",
       "75%                   1.500000                   1.700000  \n",
       "max                   5.000000                6900.000000  "
      ]
     },
     "execution_count": 6,
     "metadata": {},
     "output_type": "execute_result"
    }
   ],
   "source": [
    "#looking at the statistical summary of the data set\n",
    "goil.describe()"
   ]
  },
  {
   "cell_type": "markdown",
   "id": "dbde2fa4",
   "metadata": {},
   "source": [
    "### The shares of goil was traded on the exchange for 3,629 days with 13 features"
   ]
  },
  {
   "cell_type": "code",
   "execution_count": 7,
   "id": "80972b8d",
   "metadata": {},
   "outputs": [
    {
     "name": "stdout",
     "output_type": "stream",
     "text": [
      "There are (3629, 13) rows and columns in your dataset.\n"
     ]
    }
   ],
   "source": [
    "#looking at the number of rows and columns of the data set\n",
    "print('There are',goil.shape,'rows and columns in your dataset.')"
   ]
  },
  {
   "cell_type": "code",
   "execution_count": 8,
   "id": "e8008ca4",
   "metadata": {},
   "outputs": [
    {
     "name": "stdout",
     "output_type": "stream",
     "text": [
      "<class 'pandas.core.frame.DataFrame'>\n",
      "RangeIndex: 3629 entries, 0 to 3628\n",
      "Data columns (total 13 columns):\n",
      " #   Column                             Non-Null Count  Dtype  \n",
      "---  ------                             --------------  -----  \n",
      " 0   Date                               3629 non-null   object \n",
      " 1   Share Code                         3629 non-null   object \n",
      " 2   Year High (GHS)                    3629 non-null   float64\n",
      " 3   Year Low (GHS)                     3629 non-null   float64\n",
      " 4   Previous Closing Price VWAP (GHS)  3629 non-null   float64\n",
      " 5   Opening Price (GHS)                3629 non-null   float64\n",
      " 6   Closing Price VWAP (GHS)           3629 non-null   float64\n",
      " 7   Price Change (GHS)                 3629 non-null   float64\n",
      " 8   Closing Bid Price (GHS)            2310 non-null   float64\n",
      " 9   Closing Offer Price (GHS)          2584 non-null   float64\n",
      " 10  Total Shares Traded                3626 non-null   object \n",
      " 11  Total Value Traded                 924 non-null    object \n",
      " 12  Last Transaction Price (GHS)       3629 non-null   object \n",
      "dtypes: float64(8), object(5)\n",
      "memory usage: 368.7+ KB\n"
     ]
    }
   ],
   "source": [
    "goil.info()\n"
   ]
  },
  {
   "cell_type": "code",
   "execution_count": null,
   "id": "e721cb3c",
   "metadata": {},
   "outputs": [],
   "source": []
  },
  {
   "cell_type": "code",
   "execution_count": 9,
   "id": "772fac68",
   "metadata": {},
   "outputs": [
    {
     "data": {
      "text/plain": [
       "Date                                    0\n",
       "Share Code                              0\n",
       "Year High (GHS)                         0\n",
       "Year Low (GHS)                          0\n",
       "Previous Closing Price VWAP (GHS)       0\n",
       "Opening Price (GHS)                     0\n",
       "Closing Price VWAP (GHS)                0\n",
       "Price Change (GHS)                      0\n",
       "Closing Bid Price (GHS)              1319\n",
       "Closing Offer Price (GHS)            1045\n",
       "Total Shares Traded                     3\n",
       "Total Value Traded                   2705\n",
       "Last Transaction Price (GHS)            0\n",
       "dtype: int64"
      ]
     },
     "execution_count": 9,
     "metadata": {},
     "output_type": "execute_result"
    }
   ],
   "source": [
    "#finding the number of null values in each column in the dataset\n",
    "goil.isna().sum()\n"
   ]
  },
  {
   "cell_type": "markdown",
   "id": "17c81691",
   "metadata": {},
   "source": [
    "#### The focus of this project will be on GOIL's closing stock price only. This closing price will be used to simulate the possible prices for the next 250 days of trade on the Ghana Stock Exchange. "
   ]
  },
  {
   "cell_type": "markdown",
   "id": "42dd1696",
   "metadata": {},
   "source": [
    "#### Even though four columns of the dataset have some null values, their presence will not affect the simulation and prediction.These columns are:\n",
    "#### a. Closing Bid Price (GHS) \n",
    "#### b. Closing Offer Price (GHS), \n",
    "#### c. Total Shares Traded and \n",
    "#### d. Total Value Traded"
   ]
  },
  {
   "cell_type": "code",
   "execution_count": 10,
   "id": "1857b87b",
   "metadata": {},
   "outputs": [],
   "source": [
    "#converting the date column from object data type to datetime data type in the form yyyy mm dd\n",
    "timefmt = \"%Y-%m-%d\"\n",
    "goil['Date']=pd.to_datetime(goil['Date'])"
   ]
  },
  {
   "cell_type": "markdown",
   "id": "e08c2683",
   "metadata": {},
   "source": [
    "#### There are 6 duplicate values in the data that was removed. This should reduce the dimension of the data set to 3623 by 13 "
   ]
  },
  {
   "cell_type": "code",
   "execution_count": 11,
   "id": "fd4b14f5",
   "metadata": {},
   "outputs": [
    {
     "name": "stdout",
     "output_type": "stream",
     "text": [
      "There are 6 duplicate values in the data set\n"
     ]
    }
   ],
   "source": [
    "#Checking for duplicate values\n",
    "print('There are',goil.duplicated().sum(),'duplicate values in the data set')"
   ]
  },
  {
   "cell_type": "code",
   "execution_count": 12,
   "id": "f09f9917",
   "metadata": {},
   "outputs": [
    {
     "data": {
      "text/html": [
       "<div>\n",
       "<style scoped>\n",
       "    .dataframe tbody tr th:only-of-type {\n",
       "        vertical-align: middle;\n",
       "    }\n",
       "\n",
       "    .dataframe tbody tr th {\n",
       "        vertical-align: top;\n",
       "    }\n",
       "\n",
       "    .dataframe thead th {\n",
       "        text-align: right;\n",
       "    }\n",
       "</style>\n",
       "<table border=\"1\" class=\"dataframe\">\n",
       "  <thead>\n",
       "    <tr style=\"text-align: right;\">\n",
       "      <th></th>\n",
       "      <th>Date</th>\n",
       "      <th>Share Code</th>\n",
       "      <th>Year High (GHS)</th>\n",
       "      <th>Year Low (GHS)</th>\n",
       "      <th>Previous Closing Price VWAP (GHS)</th>\n",
       "      <th>Opening Price (GHS)</th>\n",
       "      <th>Closing Price VWAP (GHS)</th>\n",
       "      <th>Price Change (GHS)</th>\n",
       "      <th>Closing Bid Price (GHS)</th>\n",
       "      <th>Closing Offer Price (GHS)</th>\n",
       "      <th>Total Shares Traded</th>\n",
       "      <th>Total Value Traded</th>\n",
       "      <th>Last Transaction Price (GHS)</th>\n",
       "    </tr>\n",
       "  </thead>\n",
       "  <tbody>\n",
       "    <tr>\n",
       "      <th>0</th>\n",
       "      <td>2007-11-16</td>\n",
       "      <td>GOIL</td>\n",
       "      <td>0.2153</td>\n",
       "      <td>0.215</td>\n",
       "      <td>0.2000</td>\n",
       "      <td>0.2150</td>\n",
       "      <td>0.2153</td>\n",
       "      <td>0.0153</td>\n",
       "      <td>NaN</td>\n",
       "      <td>NaN</td>\n",
       "      <td>62800</td>\n",
       "      <td>NaN</td>\n",
       "      <td>0</td>\n",
       "    </tr>\n",
       "    <tr>\n",
       "      <th>1</th>\n",
       "      <td>2007-11-19</td>\n",
       "      <td>GOIL</td>\n",
       "      <td>0.2153</td>\n",
       "      <td>0.215</td>\n",
       "      <td>0.2153</td>\n",
       "      <td>0.2153</td>\n",
       "      <td>0.2153</td>\n",
       "      <td>0.0000</td>\n",
       "      <td>0.2154</td>\n",
       "      <td>0.00</td>\n",
       "      <td>0</td>\n",
       "      <td>NaN</td>\n",
       "      <td>0</td>\n",
       "    </tr>\n",
       "    <tr>\n",
       "      <th>2</th>\n",
       "      <td>2007-11-20</td>\n",
       "      <td>GOIL</td>\n",
       "      <td>0.2153</td>\n",
       "      <td>0.215</td>\n",
       "      <td>0.2153</td>\n",
       "      <td>0.2153</td>\n",
       "      <td>0.2153</td>\n",
       "      <td>0.0000</td>\n",
       "      <td>0.2155</td>\n",
       "      <td>0.00</td>\n",
       "      <td>0</td>\n",
       "      <td>NaN</td>\n",
       "      <td>0</td>\n",
       "    </tr>\n",
       "    <tr>\n",
       "      <th>3</th>\n",
       "      <td>2007-11-21</td>\n",
       "      <td>GOIL</td>\n",
       "      <td>0.2260</td>\n",
       "      <td>0.215</td>\n",
       "      <td>0.2153</td>\n",
       "      <td>0.2153</td>\n",
       "      <td>0.2260</td>\n",
       "      <td>0.0107</td>\n",
       "      <td>0.2260</td>\n",
       "      <td>0.00</td>\n",
       "      <td>1090400</td>\n",
       "      <td>NaN</td>\n",
       "      <td>0</td>\n",
       "    </tr>\n",
       "    <tr>\n",
       "      <th>4</th>\n",
       "      <td>2007-11-22</td>\n",
       "      <td>GOIL</td>\n",
       "      <td>0.2260</td>\n",
       "      <td>0.215</td>\n",
       "      <td>0.2260</td>\n",
       "      <td>0.2260</td>\n",
       "      <td>0.2260</td>\n",
       "      <td>0.0000</td>\n",
       "      <td>0.2260</td>\n",
       "      <td>0.00</td>\n",
       "      <td>0</td>\n",
       "      <td>NaN</td>\n",
       "      <td>0</td>\n",
       "    </tr>\n",
       "    <tr>\n",
       "      <th>...</th>\n",
       "      <td>...</td>\n",
       "      <td>...</td>\n",
       "      <td>...</td>\n",
       "      <td>...</td>\n",
       "      <td>...</td>\n",
       "      <td>...</td>\n",
       "      <td>...</td>\n",
       "      <td>...</td>\n",
       "      <td>...</td>\n",
       "      <td>...</td>\n",
       "      <td>...</td>\n",
       "      <td>...</td>\n",
       "      <td>...</td>\n",
       "    </tr>\n",
       "    <tr>\n",
       "      <th>3624</th>\n",
       "      <td>2022-08-17</td>\n",
       "      <td>GOIL</td>\n",
       "      <td>1.8200</td>\n",
       "      <td>1.790</td>\n",
       "      <td>1.7900</td>\n",
       "      <td>1.7900</td>\n",
       "      <td>1.7900</td>\n",
       "      <td>0.0000</td>\n",
       "      <td>NaN</td>\n",
       "      <td>1.79</td>\n",
       "      <td>0</td>\n",
       "      <td>0</td>\n",
       "      <td>1.79</td>\n",
       "    </tr>\n",
       "    <tr>\n",
       "      <th>3625</th>\n",
       "      <td>2022-08-18</td>\n",
       "      <td>GOIL</td>\n",
       "      <td>1.8200</td>\n",
       "      <td>1.790</td>\n",
       "      <td>1.7900</td>\n",
       "      <td>1.7900</td>\n",
       "      <td>1.7900</td>\n",
       "      <td>0.0000</td>\n",
       "      <td>NaN</td>\n",
       "      <td>1.79</td>\n",
       "      <td>0</td>\n",
       "      <td>0</td>\n",
       "      <td>1.79</td>\n",
       "    </tr>\n",
       "    <tr>\n",
       "      <th>3626</th>\n",
       "      <td>2022-08-19</td>\n",
       "      <td>GOIL</td>\n",
       "      <td>1.8200</td>\n",
       "      <td>1.790</td>\n",
       "      <td>1.7900</td>\n",
       "      <td>1.7900</td>\n",
       "      <td>1.7900</td>\n",
       "      <td>0.0000</td>\n",
       "      <td>NaN</td>\n",
       "      <td>1.79</td>\n",
       "      <td>20</td>\n",
       "      <td>35.8</td>\n",
       "      <td>1.79</td>\n",
       "    </tr>\n",
       "    <tr>\n",
       "      <th>3627</th>\n",
       "      <td>2022-08-22</td>\n",
       "      <td>GOIL</td>\n",
       "      <td>1.8200</td>\n",
       "      <td>1.790</td>\n",
       "      <td>1.7900</td>\n",
       "      <td>1.7900</td>\n",
       "      <td>1.7900</td>\n",
       "      <td>0.0000</td>\n",
       "      <td>NaN</td>\n",
       "      <td>1.79</td>\n",
       "      <td>0</td>\n",
       "      <td>0</td>\n",
       "      <td>1.79</td>\n",
       "    </tr>\n",
       "    <tr>\n",
       "      <th>3628</th>\n",
       "      <td>2022-08-23</td>\n",
       "      <td>GOIL</td>\n",
       "      <td>1.8200</td>\n",
       "      <td>1.790</td>\n",
       "      <td>1.7900</td>\n",
       "      <td>1.7900</td>\n",
       "      <td>1.7900</td>\n",
       "      <td>0.0000</td>\n",
       "      <td>NaN</td>\n",
       "      <td>1.79</td>\n",
       "      <td>0</td>\n",
       "      <td>0</td>\n",
       "      <td>1.79</td>\n",
       "    </tr>\n",
       "  </tbody>\n",
       "</table>\n",
       "<p>3623 rows × 13 columns</p>\n",
       "</div>"
      ],
      "text/plain": [
       "           Date Share Code  Year High (GHS)  Year Low (GHS)  \\\n",
       "0    2007-11-16       GOIL           0.2153           0.215   \n",
       "1    2007-11-19       GOIL           0.2153           0.215   \n",
       "2    2007-11-20       GOIL           0.2153           0.215   \n",
       "3    2007-11-21       GOIL           0.2260           0.215   \n",
       "4    2007-11-22       GOIL           0.2260           0.215   \n",
       "...         ...        ...              ...             ...   \n",
       "3624 2022-08-17       GOIL           1.8200           1.790   \n",
       "3625 2022-08-18       GOIL           1.8200           1.790   \n",
       "3626 2022-08-19       GOIL           1.8200           1.790   \n",
       "3627 2022-08-22       GOIL           1.8200           1.790   \n",
       "3628 2022-08-23       GOIL           1.8200           1.790   \n",
       "\n",
       "      Previous Closing Price VWAP (GHS)  Opening Price (GHS)  \\\n",
       "0                                0.2000               0.2150   \n",
       "1                                0.2153               0.2153   \n",
       "2                                0.2153               0.2153   \n",
       "3                                0.2153               0.2153   \n",
       "4                                0.2260               0.2260   \n",
       "...                                 ...                  ...   \n",
       "3624                             1.7900               1.7900   \n",
       "3625                             1.7900               1.7900   \n",
       "3626                             1.7900               1.7900   \n",
       "3627                             1.7900               1.7900   \n",
       "3628                             1.7900               1.7900   \n",
       "\n",
       "      Closing Price VWAP (GHS)  Price Change (GHS)  Closing Bid Price (GHS)  \\\n",
       "0                       0.2153              0.0153                      NaN   \n",
       "1                       0.2153              0.0000                   0.2154   \n",
       "2                       0.2153              0.0000                   0.2155   \n",
       "3                       0.2260              0.0107                   0.2260   \n",
       "4                       0.2260              0.0000                   0.2260   \n",
       "...                        ...                 ...                      ...   \n",
       "3624                    1.7900              0.0000                      NaN   \n",
       "3625                    1.7900              0.0000                      NaN   \n",
       "3626                    1.7900              0.0000                      NaN   \n",
       "3627                    1.7900              0.0000                      NaN   \n",
       "3628                    1.7900              0.0000                      NaN   \n",
       "\n",
       "      Closing Offer Price (GHS) Total Shares Traded Total Value Traded  \\\n",
       "0                           NaN               62800                NaN   \n",
       "1                          0.00                   0                NaN   \n",
       "2                          0.00                   0                NaN   \n",
       "3                          0.00             1090400                NaN   \n",
       "4                          0.00                   0                NaN   \n",
       "...                         ...                 ...                ...   \n",
       "3624                       1.79                   0                  0   \n",
       "3625                       1.79                   0                  0   \n",
       "3626                       1.79                  20               35.8   \n",
       "3627                       1.79                   0                  0   \n",
       "3628                       1.79                   0                  0   \n",
       "\n",
       "     Last Transaction Price (GHS)  \n",
       "0                               0  \n",
       "1                               0  \n",
       "2                               0  \n",
       "3                               0  \n",
       "4                               0  \n",
       "...                           ...  \n",
       "3624                         1.79  \n",
       "3625                         1.79  \n",
       "3626                         1.79  \n",
       "3627                         1.79  \n",
       "3628                         1.79  \n",
       "\n",
       "[3623 rows x 13 columns]"
      ]
     },
     "execution_count": 12,
     "metadata": {},
     "output_type": "execute_result"
    }
   ],
   "source": [
    "#removing these duplicate values from the dataset\n",
    "goil1=goil.drop_duplicates()\n",
    "goil1"
   ]
  },
  {
   "cell_type": "code",
   "execution_count": 13,
   "id": "7240cfe3",
   "metadata": {},
   "outputs": [
    {
     "name": "stdout",
     "output_type": "stream",
     "text": [
      "There are now (3629, 13) rows and columns in your dataset after droping the duplicates.\n"
     ]
    }
   ],
   "source": [
    "#looking at the number of rows and columns of the data set after removing duplicates\n",
    "print('There are now',goil.shape,'rows and columns in your dataset after droping the duplicates.')"
   ]
  },
  {
   "cell_type": "markdown",
   "id": "4db1a925",
   "metadata": {},
   "source": [
    "## Visualizations of the stock features: \n",
    "### Since the data set is a time series data, line graphs are used to study the trend of the features\n",
    "#### . Over time the opening stock price was performing well.\n",
    "#### . But from 2019, the price began to fall. This was hugely due to the effect of the Covid-19.\n",
    "#### . It can be realised that there has been some improvemnet in the performance from the begining of 2022. "
   ]
  },
  {
   "cell_type": "code",
   "execution_count": 14,
   "id": "40d3edb4",
   "metadata": {},
   "outputs": [
    {
     "data": {
      "image/png": "[encoded data removed]",
      "text/plain": [
       "<Figure size 576x360 with 1 Axes>"
      ]
     },
     "metadata": {
      "needs_background": "light"
     },
     "output_type": "display_data"
    }
   ],
   "source": [
    "#  Plotting date vs the open market stock price\n",
    "goil1.plot(x='Date', y='Opening Price (GHS)', figsize=(8,5), color=\"red\")\n",
    "plt.title('Opening Stock Prices for GOIL')\n",
    "plt.show()"
   ]
  },
  {
   "cell_type": "markdown",
   "id": "54b66792",
   "metadata": {},
   "source": [
    "### The performance of the clossing price also follows that of the openning price. The same attributes equally explain the performance of the closing price. "
   ]
  },
  {
   "cell_type": "code",
   "execution_count": 15,
   "id": "c86bdb33",
   "metadata": {},
   "outputs": [
    {
     "data": {
      "image/png": "[encoded data removed]",
      "text/plain": [
       "<Figure size 576x360 with 1 Axes>"
      ]
     },
     "metadata": {
      "needs_background": "light"
     },
     "output_type": "display_data"
    }
   ],
   "source": [
    "#  Plotting date vs the closing  market stock price\n",
    "goil1.plot(x='Date', y='Closing Price VWAP (GHS)', figsize=(8,5), color=\"blue\")\n",
    "plt.title('Closing Stock Prices for GOIL')\n",
    "\n",
    "plt.show()"
   ]
  },
  {
   "cell_type": "markdown",
   "id": "ef21f270",
   "metadata": {},
   "source": [
    "### The stock became very volatile from 2019 to 2021 due to the persistent price changes recorded. This could be attributed to the impact of the Covid-19 on the world economy and the capital market. \n",
    "### Thi is evident in the rise and fall of the price changes.\n",
    "### Interestingly, the period of the Covid-19 experience the most volatility from 2018 to 2021"
   ]
  },
  {
   "cell_type": "code",
   "execution_count": 16,
   "id": "15c4950c",
   "metadata": {},
   "outputs": [
    {
     "data": {
      "text/plain": [
       "Text(0.5, 1.0, 'Price Change for GOIL in (GHS)')"
      ]
     },
     "execution_count": 16,
     "metadata": {},
     "output_type": "execute_result"
    },
    {
     "data": {
      "image/png": "[encoded data removed]",
      "text/plain": [
       "<Figure size 576x360 with 1 Axes>"
      ]
     },
     "metadata": {
      "needs_background": "light"
     },
     "output_type": "display_data"
    }
   ],
   "source": [
    "#Plotting the price changes over time\n",
    "goil1.plot(x='Date', y='Price Change (GHS)', figsize=(8,5), color='orange')\n",
    "plt.title('Price Change for GOIL in (GHS)')"
   ]
  },
  {
   "cell_type": "markdown",
   "id": "085c1d5b",
   "metadata": {},
   "source": [
    "#### The Year High and Year low all follow the same trend as the prices. \n",
    "#### It implies that the outbreak of the Novel Corona Virus impacted the Ghanaaian capital market."
   ]
  },
  {
   "cell_type": "code",
   "execution_count": 17,
   "id": "f1d3f8bc",
   "metadata": {},
   "outputs": [
    {
     "data": {
      "text/plain": [
       "Text(0.5, 1.0, 'Year High for GOIL in (GHS)')"
      ]
     },
     "execution_count": 17,
     "metadata": {},
     "output_type": "execute_result"
    },
    {
     "data": {
      "image/png": "[encoded data removed]",
      "text/plain": [
       "<Figure size 576x360 with 1 Axes>"
      ]
     },
     "metadata": {
      "needs_background": "light"
     },
     "output_type": "display_data"
    }
   ],
   "source": [
    "#Plotting the Year High over time\n",
    "goil1.plot(x='Date', y='Year High (GHS)', figsize=(8,5), color='orange')\n",
    "plt.title('Year High for GOIL in (GHS)')"
   ]
  },
  {
   "cell_type": "code",
   "execution_count": 18,
   "id": "af587d04",
   "metadata": {},
   "outputs": [
    {
     "data": {
      "text/plain": [
       "Text(0.5, 1.0, 'Year Low for GOIL in (GHS)')"
      ]
     },
     "execution_count": 18,
     "metadata": {},
     "output_type": "execute_result"
    },
    {
     "data": {
      "image/png": "[encoded data removed]",
      "text/plain": [
       "<Figure size 576x360 with 1 Axes>"
      ]
     },
     "metadata": {
      "needs_background": "light"
     },
     "output_type": "display_data"
    }
   ],
   "source": [
    "#Plotting the Year Low over time\n",
    "goil1.plot(x='Date', y='Year Low (GHS)', figsize=(8,5), color='orange')\n",
    "plt.title('Year Low for GOIL in (GHS)')"
   ]
  },
  {
   "cell_type": "code",
   "execution_count": 19,
   "id": "0399c7ab",
   "metadata": {},
   "outputs": [],
   "source": [
    "#Renaming the closing price vwap (GHS) column to Close for simplicity\n",
    "\n",
    "nameDict={\"Closing Price VWAP (GHS)\":\"Close\"}\n",
    "goil1=goil1.rename(columns=nameDict)"
   ]
  },
  {
   "cell_type": "code",
   "execution_count": 20,
   "id": "cbed86f1",
   "metadata": {},
   "outputs": [
    {
     "data": {
      "text/html": [
       "<div>\n",
       "<style scoped>\n",
       "    .dataframe tbody tr th:only-of-type {\n",
       "        vertical-align: middle;\n",
       "    }\n",
       "\n",
       "    .dataframe tbody tr th {\n",
       "        vertical-align: top;\n",
       "    }\n",
       "\n",
       "    .dataframe thead th {\n",
       "        text-align: right;\n",
       "    }\n",
       "</style>\n",
       "<table border=\"1\" class=\"dataframe\">\n",
       "  <thead>\n",
       "    <tr style=\"text-align: right;\">\n",
       "      <th></th>\n",
       "      <th>Date</th>\n",
       "      <th>Close</th>\n",
       "    </tr>\n",
       "  </thead>\n",
       "  <tbody>\n",
       "    <tr>\n",
       "      <th>0</th>\n",
       "      <td>2007-11-16</td>\n",
       "      <td>0.2153</td>\n",
       "    </tr>\n",
       "    <tr>\n",
       "      <th>1</th>\n",
       "      <td>2007-11-19</td>\n",
       "      <td>0.2153</td>\n",
       "    </tr>\n",
       "    <tr>\n",
       "      <th>2</th>\n",
       "      <td>2007-11-20</td>\n",
       "      <td>0.2153</td>\n",
       "    </tr>\n",
       "    <tr>\n",
       "      <th>3</th>\n",
       "      <td>2007-11-21</td>\n",
       "      <td>0.2260</td>\n",
       "    </tr>\n",
       "    <tr>\n",
       "      <th>4</th>\n",
       "      <td>2007-11-22</td>\n",
       "      <td>0.2260</td>\n",
       "    </tr>\n",
       "    <tr>\n",
       "      <th>...</th>\n",
       "      <td>...</td>\n",
       "      <td>...</td>\n",
       "    </tr>\n",
       "    <tr>\n",
       "      <th>3624</th>\n",
       "      <td>2022-08-17</td>\n",
       "      <td>1.7900</td>\n",
       "    </tr>\n",
       "    <tr>\n",
       "      <th>3625</th>\n",
       "      <td>2022-08-18</td>\n",
       "      <td>1.7900</td>\n",
       "    </tr>\n",
       "    <tr>\n",
       "      <th>3626</th>\n",
       "      <td>2022-08-19</td>\n",
       "      <td>1.7900</td>\n",
       "    </tr>\n",
       "    <tr>\n",
       "      <th>3627</th>\n",
       "      <td>2022-08-22</td>\n",
       "      <td>1.7900</td>\n",
       "    </tr>\n",
       "    <tr>\n",
       "      <th>3628</th>\n",
       "      <td>2022-08-23</td>\n",
       "      <td>1.7900</td>\n",
       "    </tr>\n",
       "  </tbody>\n",
       "</table>\n",
       "<p>3623 rows × 2 columns</p>\n",
       "</div>"
      ],
      "text/plain": [
       "           Date   Close\n",
       "0    2007-11-16  0.2153\n",
       "1    2007-11-19  0.2153\n",
       "2    2007-11-20  0.2153\n",
       "3    2007-11-21  0.2260\n",
       "4    2007-11-22  0.2260\n",
       "...         ...     ...\n",
       "3624 2022-08-17  1.7900\n",
       "3625 2022-08-18  1.7900\n",
       "3626 2022-08-19  1.7900\n",
       "3627 2022-08-22  1.7900\n",
       "3628 2022-08-23  1.7900\n",
       "\n",
       "[3623 rows x 2 columns]"
      ]
     },
     "execution_count": 20,
     "metadata": {},
     "output_type": "execute_result"
    }
   ],
   "source": [
    "#selecting the close column for prediction \n",
    "goil_df = goil1[['Date','Close']]\n",
    "goil_df"
   ]
  },
  {
   "cell_type": "markdown",
   "id": "45bc57c4",
   "metadata": {},
   "source": [
    "### Goil stock price has been perforning well untill somewhere 2019 when COVID-19 struck. The virus obviously affected most sectors inclusing the capital marktet. The stock has stated picking up begining 2022. \n",
    "### This is a good time for investors to invest into Goil because the price has started rising. It has peaked around the begining of 2019 at a price of about GHS 5. Since it is now around GHS2 as at August 2022, we hope it will rise further."
   ]
  },
  {
   "cell_type": "code",
   "execution_count": 21,
   "id": "ba65fd6f",
   "metadata": {},
   "outputs": [
    {
     "data": {
      "text/plain": [
       "Text(0.5, 1.0, 'Closing Stock Prices for GOIL in GHS')"
      ]
     },
     "execution_count": 21,
     "metadata": {},
     "output_type": "execute_result"
    },
    {
     "data": {
      "image/png": "[encoded data removed]",
      "text/plain": [
       "<Figure size 576x360 with 1 Axes>"
      ]
     },
     "metadata": {
      "needs_background": "light"
     },
     "output_type": "display_data"
    }
   ],
   "source": [
    "# Plot GOIL closing prices\n",
    "goil_df.plot(figsize=(8, 5), x='Date', y='Close')\n",
    "plt.title('Closing Stock Prices for GOIL in GHS', fontsize=12)\n"
   ]
  },
  {
   "cell_type": "markdown",
   "id": "2da2c212",
   "metadata": {},
   "source": [
    "### Distributions - Calculate Historical Returns and Statistical Measures\n",
    "### Since this project seeks to predict closing stock prices, The 'Close' column will be the focus"
   ]
  },
  {
   "cell_type": "code",
   "execution_count": 22,
   "id": "d062680c",
   "metadata": {},
   "outputs": [
    {
     "data": {
      "text/html": [
       "<div>\n",
       "<style scoped>\n",
       "    .dataframe tbody tr th:only-of-type {\n",
       "        vertical-align: middle;\n",
       "    }\n",
       "\n",
       "    .dataframe tbody tr th {\n",
       "        vertical-align: top;\n",
       "    }\n",
       "\n",
       "    .dataframe thead th {\n",
       "        text-align: right;\n",
       "    }\n",
       "</style>\n",
       "<table border=\"1\" class=\"dataframe\">\n",
       "  <thead>\n",
       "    <tr style=\"text-align: right;\">\n",
       "      <th></th>\n",
       "      <th>Close</th>\n",
       "    </tr>\n",
       "  </thead>\n",
       "  <tbody>\n",
       "    <tr>\n",
       "      <th>0</th>\n",
       "      <td>0.2153</td>\n",
       "    </tr>\n",
       "    <tr>\n",
       "      <th>1</th>\n",
       "      <td>0.2153</td>\n",
       "    </tr>\n",
       "    <tr>\n",
       "      <th>2</th>\n",
       "      <td>0.2153</td>\n",
       "    </tr>\n",
       "    <tr>\n",
       "      <th>3</th>\n",
       "      <td>0.2260</td>\n",
       "    </tr>\n",
       "    <tr>\n",
       "      <th>4</th>\n",
       "      <td>0.2260</td>\n",
       "    </tr>\n",
       "    <tr>\n",
       "      <th>...</th>\n",
       "      <td>...</td>\n",
       "    </tr>\n",
       "    <tr>\n",
       "      <th>3624</th>\n",
       "      <td>1.7900</td>\n",
       "    </tr>\n",
       "    <tr>\n",
       "      <th>3625</th>\n",
       "      <td>1.7900</td>\n",
       "    </tr>\n",
       "    <tr>\n",
       "      <th>3626</th>\n",
       "      <td>1.7900</td>\n",
       "    </tr>\n",
       "    <tr>\n",
       "      <th>3627</th>\n",
       "      <td>1.7900</td>\n",
       "    </tr>\n",
       "    <tr>\n",
       "      <th>3628</th>\n",
       "      <td>1.7900</td>\n",
       "    </tr>\n",
       "  </tbody>\n",
       "</table>\n",
       "<p>3623 rows × 1 columns</p>\n",
       "</div>"
      ],
      "text/plain": [
       "       Close\n",
       "0     0.2153\n",
       "1     0.2153\n",
       "2     0.2153\n",
       "3     0.2260\n",
       "4     0.2260\n",
       "...      ...\n",
       "3624  1.7900\n",
       "3625  1.7900\n",
       "3626  1.7900\n",
       "3627  1.7900\n",
       "3628  1.7900\n",
       "\n",
       "[3623 rows x 1 columns]"
      ]
     },
     "execution_count": 22,
     "metadata": {},
     "output_type": "execute_result"
    }
   ],
   "source": [
    "#Selecting the Close column\n",
    "goil_close = goil_df[['Close']]\n",
    "goil_close"
   ]
  },
  {
   "cell_type": "markdown",
   "id": "77f43f45",
   "metadata": {},
   "source": [
    "### The log return of goil stock indicates that at some points invetors gain and lose at some other times.\n",
    "### From the graph, it can be seen that goil stock returns for investors has been a little volatile. As shown in the performance of the percentage changes."
   ]
  },
  {
   "cell_type": "code",
   "execution_count": 23,
   "id": "585226da",
   "metadata": {},
   "outputs": [
    {
     "data": {
      "text/plain": [
       "<AxesSubplot:>"
      ]
     },
     "execution_count": 23,
     "metadata": {},
     "output_type": "execute_result"
    },
    {
     "data": {
      "image/png": "[encoded data removed]",
      "text/plain": [
       "<Figure size 576x360 with 1 Axes>"
      ]
     },
     "metadata": {
      "needs_background": "light"
     },
     "output_type": "display_data"
    }
   ],
   "source": [
    "# Calculate historical log returns\n",
    "log_returns = np.log(1 + goil_close.pct_change())\n",
    "\n",
    "# Show all the log returns\n",
    "log_returns.plot(figsize = (8, 5))\n"
   ]
  },
  {
   "cell_type": "markdown",
   "id": "d47ddfac",
   "metadata": {},
   "source": [
    "### The Log returns is concentrated around 0.0 "
   ]
  },
  {
   "cell_type": "code",
   "execution_count": 24,
   "id": "fafa3d23",
   "metadata": {},
   "outputs": [
    {
     "data": {
      "text/plain": [
       "<AxesSubplot:ylabel='Density'>"
      ]
     },
     "execution_count": 24,
     "metadata": {},
     "output_type": "execute_result"
    },
    {
     "data": {
      "image/png": "[encoded data removed]",
      "text/plain": [
       "<Figure size 432x288 with 1 Axes>"
      ]
     },
     "metadata": {
      "needs_background": "light"
     },
     "output_type": "display_data"
    }
   ],
   "source": [
    "# To show the distribution of the log returns\n",
    "log_returns.plot.density()"
   ]
  },
  {
   "cell_type": "code",
   "execution_count": 25,
   "id": "3ffc97f9",
   "metadata": {},
   "outputs": [
    {
     "name": "stdout",
     "output_type": "stream",
     "text": [
      "The Mean log is: Close    0.000585\n",
      "dtype: float64\n",
      "The Variance log is: Close    0.000304\n",
      "dtype: float64\n",
      "The Standard deviation log is: Close    0.017438\n",
      "dtype: float64\n"
     ]
    }
   ],
   "source": [
    "# Calculating key statistical measures for the calculation of the stock price\n",
    "mean = log_returns.mean()\n",
    "variance = log_returns.var()\n",
    "std = log_returns.std()\n",
    "print(f'The Mean log is: {mean}')\n",
    "print(f'The Variance log is: {variance}')\n",
    "print(f'The Standard deviation log is: {std}')"
   ]
  },
  {
   "cell_type": "markdown",
   "id": "d0960cdf",
   "metadata": {},
   "source": [
    "### Simulations - Simulate the Future Daily Returns for investor in goil stocks and Future Prices. \n",
    "#### 100 randomly choosen numbers are used to simulate the future daily returns for the next 250 trading days.\n"
   ]
  },
  {
   "cell_type": "code",
   "execution_count": 26,
   "id": "5284c6c2",
   "metadata": {
    "scrolled": true
   },
   "outputs": [
    {
     "data": {
      "text/plain": [
       "<AxesSubplot:ylabel='Density'>"
      ]
     },
     "execution_count": 26,
     "metadata": {},
     "output_type": "execute_result"
    },
    {
     "data": {
      "image/png": "[encoded data removed]",
      "text/plain": [
       "<Figure size 432x288 with 1 Axes>"
      ]
     },
     "metadata": {
      "needs_background": "light"
     },
     "output_type": "display_data"
    }
   ],
   "source": [
    "# Generating 100 random numbers betwen 0 and 1.\n",
    "random_numbers = np.random.rand(100)\n",
    "\n",
    "# Use those randomly generated numbers to sample from a normal distribution\n",
    "normal_random_numbers = norm.ppf(random_numbers)\n",
    "\n",
    "# Plot each of the 100 randombly generated numbers from the normal distribution\n",
    "sn.distplot(normal_random_numbers, bins = 10)"
   ]
  },
  {
   "cell_type": "markdown",
   "id": "93965330",
   "metadata": {},
   "source": [
    "### The Stock Exhange opens from Monday to Fridays excluding holidays.\n",
    "### Trading on the floor starts at 10am to 3pm each working day. \n",
    "### due to this we assumed that trading occurs 250 times hence a time interval of 250 is used for the calculation with the 100 randomy choosen simulation numbes."
   ]
  },
  {
   "cell_type": "code",
   "execution_count": 27,
   "id": "7fbba5f0",
   "metadata": {},
   "outputs": [
    {
     "data": {
      "text/plain": [
       "(250, 100)"
      ]
     },
     "execution_count": 27,
     "metadata": {},
     "output_type": "execute_result"
    }
   ],
   "source": [
    "# Simulate future daily returns using the above method\n",
    "t_intervals = 250\n",
    "simulations = 100\n",
    "\n",
    "daily_logreturns_simulated = std.values * norm.ppf(np.random.rand(t_intervals, simulations))\n",
    "daily_simplereturns_simulated = np.exp(daily_logreturns_simulated)\n",
    "\n",
    "# Geting the shape of the simulation \n",
    "daily_simplereturns_simulated.shape\n"
   ]
  },
  {
   "cell_type": "markdown",
   "id": "caefef93",
   "metadata": {},
   "source": [
    "### Using returns, we need to calculate future price progression in each instance of simulation"
   ]
  },
  {
   "cell_type": "code",
   "execution_count": 28,
   "id": "21c31186",
   "metadata": {},
   "outputs": [
    {
     "data": {
      "text/plain": [
       "array([[1.79, 1.79, 1.79, ..., 1.79, 1.79, 1.79],\n",
       "       [0.  , 0.  , 0.  , ..., 0.  , 0.  , 0.  ],\n",
       "       [0.  , 0.  , 0.  , ..., 0.  , 0.  , 0.  ],\n",
       "       ...,\n",
       "       [0.  , 0.  , 0.  , ..., 0.  , 0.  , 0.  ],\n",
       "       [0.  , 0.  , 0.  , ..., 0.  , 0.  , 0.  ],\n",
       "       [0.  , 0.  , 0.  , ..., 0.  , 0.  , 0.  ]])"
      ]
     },
     "execution_count": 28,
     "metadata": {},
     "output_type": "execute_result"
    }
   ],
   "source": [
    "# Latest known stock price for Goil\n",
    "last_price = goil_close.iloc[-1]\n",
    "\n",
    "# Prepare an array for the price simulations\n",
    "price_list = np.zeros_like(daily_simplereturns_simulated)\n",
    "\n",
    "# Set the first row to the starting stock price\n",
    "price_list[0] = last_price\n",
    "\n",
    "price_list"
   ]
  },
  {
   "cell_type": "code",
   "execution_count": 29,
   "id": "a6d8cda7",
   "metadata": {},
   "outputs": [],
   "source": [
    "# Apply a for loop for simulated prices\n",
    "for t in range(1, t_intervals):\n",
    "    price_list[t] = price_list[t - 1] * daily_simplereturns_simulated[t]\n"
   ]
  },
  {
   "cell_type": "markdown",
   "id": "bbc30e44",
   "metadata": {},
   "source": [
    "### The graph shows the worst case scenairo and best case scenario for all 100 instances "
   ]
  },
  {
   "cell_type": "code",
   "execution_count": 30,
   "id": "c0408842",
   "metadata": {},
   "outputs": [
    {
     "data": {
      "image/png": "[encoded data removed]",
      "text/plain": [
       "<Figure size 432x288 with 1 Axes>"
      ]
     },
     "metadata": {
      "needs_background": "light"
     },
     "output_type": "display_data"
    }
   ],
   "source": [
    "# Ploting the simulated future GOIL stock prices for all 100 instances\n",
    "plt.plot(price_list)\n",
    "plt.show()"
   ]
  },
  {
   "cell_type": "code",
   "execution_count": 31,
   "id": "9c8e9ae4",
   "metadata": {},
   "outputs": [],
   "source": [
    "# Calculating drift. How does the price deviates from the mean\n",
    "drift = mean - (0.5*variance)\n",
    "\n",
    "# Simulate future daily returns\n",
    "t_intervals = 250\n",
    "simulations = 100\n",
    "\n",
    "daily_logreturns_simulated = std.values * norm.ppf(np.random.rand(t_intervals, simulations))\n",
    "daily_logreturns_simulated_withdrift = daily_logreturns_simulated +drift.values\n",
    "daily_simplereturns_simulated_withdrift = np.exp(daily_logreturns_simulated_withdrift)"
   ]
  },
  {
   "cell_type": "markdown",
   "id": "7ec0b8af",
   "metadata": {},
   "source": [
    "## Quantifications - Examine the worst, average, best scenarios and the probability distribution of each\n",
    "#### . In the worst case, Goil prices traded around GH0.88\n",
    "#### . On average case, Goil prices traded around GH2.06\n",
    "#### . In the best case, Goil prices traded around GH4.07"
   ]
  },
  {
   "cell_type": "code",
   "execution_count": 32,
   "id": "bbeb4127",
   "metadata": {},
   "outputs": [
    {
     "name": "stdout",
     "output_type": "stream",
     "text": [
      "Best and Worst Cases\n",
      "1. Worst Simulation GHS/share: 0.89\n",
      "2. Avg Simulation GHS/share: 1.79\n",
      "3. Best Simulation GHS/share: 4.09\n"
     ]
    }
   ],
   "source": [
    "# Calculate worst, average and best scenarios for GOIL stock price\n",
    "WorstSim = round(price_list[-1].min(),2)\n",
    "AvgSim = round(price_list[-1].mean(),2)\n",
    "BestSim = round(price_list[-1].max(),2)\n",
    "\n",
    "# Examine the worst, average, and best stock price sceanrios\n",
    "print(\"Best and Worst Cases\")\n",
    "print(f\"1. Worst Simulation GHS/share: {WorstSim}\")\n",
    "print(f\"2. Avg Simulation GHS/share: {AvgSim}\")\n",
    "print(f\"3. Best Simulation GHS/share: {BestSim}\")\n"
   ]
  },
  {
   "cell_type": "markdown",
   "id": "1e6446b5",
   "metadata": {},
   "source": [
    "### Confidence Intervals:\n",
    "#### 1 We are 68% confident that GOIL stock price after 250 days will fall between GHS1.44 and GHS2.67\n",
    "#### 2  We are 95% confident that GOIL stock price after 250 days will fall between GHS0.83 and GHS3.29"
   ]
  },
  {
   "cell_type": "code",
   "execution_count": 33,
   "id": "80912aac",
   "metadata": {},
   "outputs": [
    {
     "name": "stdout",
     "output_type": "stream",
     "text": [
      "\n",
      "Confidence Intervals\n",
      "1 Sigma (1 S.D): We are 68% confident that GOIL stock price after 250 days will fall between: GHS1.3 and GHS2.27\n",
      "2 Sigma (2 S.D): We are 95% confident that GOIL stock price after 250 days will fall between: GHS0.81 and GHS2.76\n"
     ]
    }
   ],
   "source": [
    "# Set up confidence intervals\n",
    "Mean_Day250Prices = price_list[-1].mean()\n",
    "SD_Day250Prices = price_list[-1].std()\n",
    "\n",
    "# Considering one standard deviation\n",
    "UpperInterval_1SD = Mean_Day250Prices + 1 * SD_Day250Prices \n",
    "LowerInterval_1SD = Mean_Day250Prices - 1 * SD_Day250Prices\n",
    "\n",
    "# Considering two standard deviations\n",
    "UpperInterval_2SD = Mean_Day250Prices + 2 * SD_Day250Prices\n",
    "LowerInterval_2SD = Mean_Day250Prices - 2 * SD_Day250Prices\n",
    "\n",
    "# Print out the price range within the confidence intervals\n",
    "print(\"\\n\" + \"Confidence Intervals\")\n",
    "print(f\"1 Sigma (1 S.D): We are 68% confident that GOIL stock price after 250 days will fall between: GHS{round(LowerInterval_1SD,2)} and GHS{round(UpperInterval_1SD,2)}\")\n",
    "print(f\"2 Sigma (2 S.D): We are 95% confident that GOIL stock price after 250 days will fall between: GHS{round(LowerInterval_2SD,2)} and GHS{round(UpperInterval_2SD,2)}\")"
   ]
  },
  {
   "cell_type": "markdown",
   "id": "0d14ddd3",
   "metadata": {},
   "source": [
    "## Conclusion:\n",
    "\n",
    "### From the analysis and simulations above, we expect the stock price of ghana Oil Company to perform fairly well in the next year. This is because in the best case scenario, the price is expected to be around GHS 4.07. \n",
    "### All things been equal, this will mean that the stock market in Ghana should be picking up. \n",
    "### For better decision making concerning whether people should invest in Goil or another stock, a comprehensive analysis should be done on the performance of the other stocks on the market. "
   ]
  },
  {
   "cell_type": "code",
   "execution_count": null,
   "id": "83d92388",
   "metadata": {},
   "outputs": [],
   "source": []
  }
 ],
 "metadata": {
  "kernelspec": {
   "display_name": "Python 3 (ipykernel)",
   "language": "python",
   "name": "python3"
  },
  "language_info": {
   "codemirror_mode": {
    "name": "ipython",
    "version": 3
   },
   "file_extension": ".py",
   "mimetype": "text/x-python",
   "name": "python",
   "nbconvert_exporter": "python",
   "pygments_lexer": "ipython3",
   "version": "3.9.7"
  }
 },
 "nbformat": 4,
 "nbformat_minor": 5
}
